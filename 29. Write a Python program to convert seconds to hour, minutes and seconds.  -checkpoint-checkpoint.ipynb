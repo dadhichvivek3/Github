{
 "cells": [
  {
   "cell_type": "code",
   "execution_count": null,
   "metadata": {},
   "outputs": [],
   "source": [
    "29. Write a Python program to convert seconds to hour, minutes and seconds.  "
   ]
  },
  {
   "cell_type": "code",
   "execution_count": 2,
   "metadata": {},
   "outputs": [
    {
     "name": "stdout",
     "output_type": "stream",
     "text": [
      "3:25:45\n"
     ]
    }
   ],
   "source": [
    "# Python Program to Convert seconds into hours, minutes and seconds \n",
    "\n",
    "def convert(seconds): \n",
    "    seconds = seconds % (24 * 3600) \n",
    "    hour = seconds // 3600\n",
    "    seconds %= 3600\n",
    "    minutes = seconds // 60\n",
    "    seconds %= 60\n",
    "    \n",
    "    return \"%d:%02d:%02d\" % (hour, minutes, seconds) \n",
    "    \n",
    "# Driver program \n",
    "n = 12345\n",
    "print(convert(n)) \n"
   ]
  },
  {
   "cell_type": "code",
   "execution_count": 7,
   "metadata": {},
   "outputs": [
    {
     "name": "stdout",
     "output_type": "stream",
     "text": [
      "26:45:52\n"
     ]
    }
   ],
   "source": [
    "# Python Program to Convert seconds into hours, minutes and seconds \n",
    "\n",
    "def convert(seconds): \n",
    "    min, sec = divmod(seconds, 60) \n",
    "    hour, min = divmod(min, 60) \n",
    "    return \"%d:%02d:%02d\" % (hour, min, sec) \n",
    "    \n",
    "# Driver program \n",
    "n = 96352\n",
    "print(convert(n)) \n"
   ]
  },
  {
   "cell_type": "code",
   "execution_count": 8,
   "metadata": {},
   "outputs": [
    {
     "name": "stdout",
     "output_type": "stream",
     "text": [
      "1 day, 2:45:52\n"
     ]
    }
   ],
   "source": [
    "# Python Program to Convert seconds into hours, minutes and seconds \n",
    "import datetime \n",
    "\n",
    "def convert(n): \n",
    "    return str(datetime.timedelta(seconds = n)) \n",
    "    \n",
    "# Driver program \n",
    "n = 96352\n",
    "print(convert(n)) \n"
   ]
  },
  {
   "cell_type": "code",
   "execution_count": 10,
   "metadata": {},
   "outputs": [
    {
     "name": "stdout",
     "output_type": "stream",
     "text": [
      "19:19:45\n"
     ]
    }
   ],
   "source": [
    "# Python Program to Convert seconds into hours, minutes and seconds \n",
    "\n",
    "import time \n",
    "\n",
    "def convert(seconds): \n",
    "    return time.strftime(\"%H:%M:%S\", time.gmtime(n)) \n",
    "    \n",
    "# Driver program \n",
    "n = 69585\n",
    "print(convert(n)) \n"
   ]
  },
  {
   "cell_type": "code",
   "execution_count": null,
   "metadata": {},
   "outputs": [],
   "source": []
  }
 ],
 "metadata": {
  "kernelspec": {
   "display_name": "Python 3",
   "language": "python",
   "name": "python3"
  },
  "language_info": {
   "codemirror_mode": {
    "name": "ipython",
    "version": 3
   },
   "file_extension": ".py",
   "mimetype": "text/x-python",
   "name": "python",
   "nbconvert_exporter": "python",
   "pygments_lexer": "ipython3",
   "version": "3.7.3"
  }
 },
 "nbformat": 4,
 "nbformat_minor": 2
}
